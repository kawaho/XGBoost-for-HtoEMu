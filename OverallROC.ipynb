{
 "cells": [
  {
   "cell_type": "code",
   "execution_count": 33,
   "metadata": {},
   "outputs": [
    {
     "name": "stdout",
     "output_type": "stream",
     "text": [
      "Processing 2016preVFP\n",
      "Processing 2016postVFP\n",
      "Processing 2018\n",
      "Processing 2017\n"
     ]
    }
   ],
   "source": [
    "from coffea.util import load\n",
    "import numpy as np\n",
    "import pandas as pd\n",
    "import glob, os, json, argparse\n",
    "years = ['2016preVFP', '2016postVFP', '2018','2017']\n",
    "var_dict = [{}, {}, {}]\n",
    "df = []\n",
    "for year in years:\n",
    "  print(f'Processing {year}')\n",
    "  result = load(f\"../results/{year}/makeDF/output_reso2.coffea\")\n",
    "  if isinstance(result,tuple):\n",
    "      result = result[0]\n",
    "  for varName in result:\n",
    "    for i in range(3):\n",
    "      if f'{i}jets' in varName:\n",
    "        if varName.replace(f'_{i}jets','') in var_dict[i]:\n",
    "          var_dict[i][varName.replace(f'_{i}jets','')] = np.append(var_dict[i][varName.replace(f'_{i}jets','')],result[varName].value)\n",
    "        else:\n",
    "          var_dict[i][varName.replace(f'_{i}jets','')] = result[varName].value\n",
    "for i in range(3):\n",
    "    df.append(pd.DataFrame(var_dict[i]))\n"
   ]
  },
  {
   "cell_type": "code",
   "execution_count": 34,
   "metadata": {},
   "outputs": [],
   "source": [
    "from sklearn.model_selection import train_test_split\n",
    "X_train, X_test, y_train, y_test = [], [], [], []\n",
    "for njet in [0,1,2]:\n",
    "    data = df[njet]\n",
    "    data_clean = data[~data.isin([np.nan, np.inf, -np.inf]).any(1)]\n",
    "    data_cuts = data_clean[(data_clean['weight']!=0)&(data_clean['opp_charge']==1)&(data_clean['e_m_Mass']>115)&(data_clean['e_m_Mass']<135)&((data_clean['label']==1)|(data_clean['label']==0))]\n",
    "    if njet==2:\n",
    "        data_vbf = data_cuts[data_cuts['isVBFcat']==0]\n",
    "    else:\n",
    "        data_vbf = data_cuts\n",
    "\n",
    "    # split data into X and y\n",
    "    X = data_vbf\n",
    "    Y = data_vbf['label']\n",
    "\n",
    "    # split data into train and tsest sets\n",
    "    seed = 123\n",
    "    test_size = 0.30\n",
    "    X_train_tmp, X_test_tmp, y_train_tmp, y_test_tmp = train_test_split(X, Y, test_size=test_size, random_state=seed)\n",
    "    X_train.append(X_train_tmp)\n",
    "    X_test.append(X_test_tmp)\n",
    "    y_train.append(y_train_tmp)\n",
    "    y_test.append(y_test_tmp)"
   ]
  },
  {
   "cell_type": "code",
   "execution_count": 35,
   "metadata": {},
   "outputs": [
    {
     "name": "stderr",
     "output_type": "stream",
     "text": [
      "/tmp/ipykernel_4172868/2047137999.py:8: SettingWithCopyWarning: \n",
      "A value is trying to be set on a copy of a slice from a DataFrame.\n",
      "Try using .loc[row_indexer,col_indexer] = value instead\n",
      "\n",
      "See the caveats in the documentation: https://pandas.pydata.org/pandas-docs/stable/user_guide/indexing.html#returning-a-view-versus-a-copy\n",
      "  X_train[i]['mva'] = BDTmodels.predict_proba(X_train[i][BDTvars])[:,1]\n",
      "/tmp/ipykernel_4172868/2047137999.py:9: SettingWithCopyWarning: \n",
      "A value is trying to be set on a copy of a slice from a DataFrame.\n",
      "Try using .loc[row_indexer,col_indexer] = value instead\n",
      "\n",
      "See the caveats in the documentation: https://pandas.pydata.org/pandas-docs/stable/user_guide/indexing.html#returning-a-view-versus-a-copy\n",
      "  X_test[i]['mva'] = BDTmodels.predict_proba(X_test[i][BDTvars])[:,1]\n"
     ]
    }
   ],
   "source": [
    "import xgboost as xgb\n",
    "BDTjsons = ['model_GG_0jets', 'model_GG_1jets', 'model_GG_2jets']\n",
    "BDTmodels, BDTvars = {}, {}\n",
    "for i, BDTjson in enumerate(BDTjsons):\n",
    "    BDTmodels = xgb.XGBClassifier()\n",
    "    BDTmodels.load_model(f'results/{BDTjson}.json')\n",
    "    BDTvars = BDTmodels.get_booster().feature_names\n",
    "    X_train[i]['mva'] = BDTmodels.predict_proba(X_train[i][BDTvars])[:,1]\n",
    "    X_test[i]['mva'] = BDTmodels.predict_proba(X_test[i][BDTvars])[:,1]"
   ]
  },
  {
   "cell_type": "code",
   "execution_count": 36,
   "metadata": {},
   "outputs": [
    {
     "name": "stdout",
     "output_type": "stream",
     "text": [
      "Train 0.8269621956239436\n",
      "Test 0.8332518177986797\n",
      "Train 0.8452356291331247\n",
      "Test 0.8494580284382419\n",
      "Train 0.9017741287934311\n",
      "Test 0.8982671258249053\n"
     ]
    }
   ],
   "source": [
    "from my_roc_auc3 import my_roc_auc\n",
    "for i in range(3):\n",
    "    print('Train', my_roc_auc(y_train[i].to_numpy(), X_train[i]['mva'].to_numpy(), X_train[i]['weight'].to_numpy()))\n",
    "    print('Test', my_roc_auc(y_test[i].to_numpy(), X_test[i]['mva'].to_numpy(), X_test[i]['weight'].to_numpy()))"
   ]
  },
  {
   "cell_type": "code",
   "execution_count": 37,
   "metadata": {},
   "outputs": [
    {
     "name": "stdout",
     "output_type": "stream",
     "text": [
      "Train 0.8443404751607844\n",
      "Test 0.8480394950550113\n"
     ]
    }
   ],
   "source": [
    "X_train_mva = np.append(np.append(X_train[0]['mva'].to_numpy(), X_train[1]['mva'].to_numpy()), X_train[2]['mva'].to_numpy())\n",
    "X_test_mva = np.append(np.append(X_test[0]['mva'].to_numpy(), X_test[1]['mva'].to_numpy()), X_test[2]['mva'].to_numpy())\n",
    "y_train_ = np.append(np.append(y_train[0].to_numpy(), y_train[1].to_numpy()), y_train[2].to_numpy())\n",
    "y_test_ = np.append(np.append(y_test[0].to_numpy(), y_test[1].to_numpy()), y_test[2].to_numpy())\n",
    "X_train_weight = np.append(np.append(X_train[0]['weight'].to_numpy(), X_train[1]['weight'].to_numpy()), X_train[2]['weight'].to_numpy())\n",
    "X_test_weight = np.append(np.append(X_test[0]['weight'].to_numpy(), X_test[1]['weight'].to_numpy()), X_test[2]['weight'].to_numpy())\n",
    "print('Train', my_roc_auc(y_train_, X_train_mva, X_train_weight))\n",
    "print('Test', my_roc_auc(y_test_, X_test_mva, X_test_weight))"
   ]
  },
  {
   "cell_type": "code",
   "execution_count": null,
   "metadata": {},
   "outputs": [],
   "source": []
  }
 ],
 "metadata": {
  "kernelspec": {
   "display_name": "my-coffea-env",
   "language": "python",
   "name": "my-coffea-env"
  },
  "language_info": {
   "codemirror_mode": {
    "name": "ipython",
    "version": 3
   },
   "file_extension": ".py",
   "mimetype": "text/x-python",
   "name": "python",
   "nbconvert_exporter": "python",
   "pygments_lexer": "ipython3",
   "version": "3.9.7"
  }
 },
 "nbformat": 4,
 "nbformat_minor": 2
}
