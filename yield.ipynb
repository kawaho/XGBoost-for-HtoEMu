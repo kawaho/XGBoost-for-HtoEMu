{
 "cells": [
  {
   "cell_type": "code",
   "execution_count": 1,
   "metadata": {},
   "outputs": [
    {
     "name": "stdout",
     "output_type": "stream",
     "text": [
      "Processing 2016preVFP\n",
      "Processing 2016postVFP\n",
      "Processing 2017\n",
      "Processing 2018\n"
     ]
    }
   ],
   "source": [
    "from coffea.util import load\n",
    "import numpy as np\n",
    "import pandas as pd\n",
    "import glob, os, json, argparse\n",
    "years = ['2016preVFP','2016postVFP','2017','2018']\n",
    "var_dict = [{}, {}, {}]\n",
    "df = []\n",
    "for year in years:\n",
    "  print(f'Processing {year}')\n",
    "  result = load(f\"../results/{year}/makeDF/output.coffea\")\n",
    "  if isinstance(result,tuple):\n",
    "      result = result[0]\n",
    "  for varName in result:\n",
    "    for i in range(3):\n",
    "      if f'{i}jets' in varName:\n",
    "        if varName.replace(f'_{i}jets','') in var_dict[i]:\n",
    "          var_dict[i][varName.replace(f'_{i}jets','')] = np.append(var_dict[i][varName.replace(f'_{i}jets','')],result[varName].value)\n",
    "        else:\n",
    "          var_dict[i][varName.replace(f'_{i}jets','')] = result[varName].value\n",
    "for i in range(3):\n",
    "    df.append(pd.DataFrame(var_dict[i]))"
   ]
  },
  {
   "cell_type": "code",
   "execution_count": 19,
   "metadata": {},
   "outputs": [],
   "source": [
    "yield_dict = {}\n",
    "for i in range(3):\n",
    "    for j in df[i]['sample'].unique():\n",
    "        if j in yield_dict:\n",
    "            yield_dict[int(j)] += df[i].loc[df[i]['sample']==j]['weight'].sum()\n",
    "        else:\n",
    "            yield_dict[int(j)] = df[i].loc[df[i]['sample']==j]['weight'].sum()"
   ]
  },
  {
   "cell_type": "code",
   "execution_count": 21,
   "metadata": {},
   "outputs": [
    {
     "name": "stdout",
     "output_type": "stream",
     "text": [
      "data 53875.51187731378\n",
      "GluGlu_LFV_HToEMu_M125 22008.77583385\n",
      "VBF_LFV_HToEMu_M125 1507.2070824437137\n",
      "TTTo2L2Nu 19406.380250983184\n",
      "GluGlu_LFV_HToEMu_M120 21210.608427780466\n",
      "VBF_LFV_HToEMu_M120 1445.4822829901052\n",
      "GluGlu_LFV_HToEMu_M130 22552.61187489058\n",
      "VBF_LFV_HToEMu_M130 1554.4212036439299\n",
      "ZZ_TuneCP5 107.2367286588281\n",
      "WZ_TuneCP5 1863.9094757735006\n",
      "WW_TuneCP5 19423.390680070126\n",
      "DYJetsToLL_M-50 2277.3840869106252\n",
      "DYJetsToLL_M-10to50 15.335991775270445\n",
      "WGToLNuG_TuneCP5 1343.8120093901543\n",
      "TTToSemiLeptonic 416.61622024580197\n",
      "TTToHadronic 0.7889530837763763\n",
      "ST_tW_antitop_5f_inclusiveDecays 2285.547826669186\n",
      "ST_tW_top_5f_inclusiveDecays 2307.3492076045018\n",
      "ST_t-channel_antitop_5f_inclusiveDecays has no events.\n",
      "ST_t-channel_top_5f_InclusiveDecays 9.122432586611623\n",
      "EWKZ2Jets_ZToLL 14.86474319964177\n",
      "EWKZ2Jets_ZToNuNu has no events.\n",
      "EWKWMinus2Jets 34.8172348081617\n",
      "EWKWPlus2Jets 38.78096196641005\n",
      "GluGluHToTauTau 2.143765738123918\n",
      "VBFHToTauTau 0.18451298159897966\n",
      "WminusHToTauTau 6.650395491370888\n",
      "WplusHToTauTau 10.75155163650896\n",
      "GluGluHToWWTo2L2Nu 0.008255083385302238\n",
      "VBFHToWWTo2L2Nu 0.0053970069796652875\n",
      "ZHToTauTau 0.22519695943477527\n",
      "WJetsToLNu_TuneCP5 35.33056430258999\n",
      "W1JetsToLNu 358.37545916219483\n",
      "W2JetsToLNu 233.1257550530599\n",
      "W3JetsToLNu 74.3812533696401\n",
      "W4JetsToLNu -18.18238546200607\n"
     ]
    }
   ],
   "source": [
    "samples = ['data', 'GluGlu_LFV_HToEMu_M125', 'VBF_LFV_HToEMu_M125', 'TTTo2L2Nu', 'GluGlu_LFV_HToEMu_M120', 'VBF_LFV_HToEMu_M120', 'GluGlu_LFV_HToEMu_M130', 'VBF_LFV_HToEMu_M130', 'ZZ_TuneCP5', 'WZ_TuneCP5', 'WW_TuneCP5', 'DYJetsToLL_M-50', 'DYJetsToLL_M-10to50', 'WGToLNuG_TuneCP5', 'TTToSemiLeptonic', 'TTToHadronic', 'ST_tW_antitop_5f_inclusiveDecays', 'ST_tW_top_5f_inclusiveDecays', 'ST_t-channel_antitop_5f_inclusiveDecays', 'ST_t-channel_top_5f_InclusiveDecays', 'EWKZ2Jets_ZToLL', 'EWKZ2Jets_ZToNuNu', 'EWKWMinus2Jets', 'EWKWPlus2Jets', 'GluGluHToTauTau', 'VBFHToTauTau', 'WminusHToTauTau', 'WplusHToTauTau', 'GluGluHToWWTo2L2Nu', 'VBFHToWWTo2L2Nu', 'ZHToTauTau', 'WJetsToLNu_TuneCP5', 'W1JetsToLNu', 'W2JetsToLNu', 'W3JetsToLNu', 'W4JetsToLNu']\n",
    "\n",
    "for i,j in enumerate(samples):\n",
    "    if i in yield_dict:\n",
    "        print(j, yield_dict[i])\n",
    "    else:\n",
    "        print(f'{j} has no events.')"
   ]
  },
  {
   "cell_type": "code",
   "execution_count": null,
   "metadata": {},
   "outputs": [],
   "source": []
  }
 ],
 "metadata": {
  "kernelspec": {
   "display_name": "my-coffea-env",
   "language": "python",
   "name": "my-coffea-env"
  },
  "language_info": {
   "codemirror_mode": {
    "name": "ipython",
    "version": 3
   },
   "file_extension": ".py",
   "mimetype": "text/x-python",
   "name": "python",
   "nbconvert_exporter": "python",
   "pygments_lexer": "ipython3",
   "version": "3.9.7"
  }
 },
 "nbformat": 4,
 "nbformat_minor": 2
}
