{
 "cells": [
  {
   "cell_type": "code",
   "execution_count": 6,
   "metadata": {},
   "outputs": [],
   "source": [
    "#!/usr/bin/python\n",
    "# this is the example script to use xgboost to train\n",
    "import numpy as np\n",
    "import pandas as pd\n",
    "import matplotlib.pyplot as plt \n",
    "import xgboost as xgb \n",
    "from sklearn.metrics import roc_curve, auc, roc_auc_score\n",
    "from sklearn.model_selection import train_test_split"
   ]
  },
  {
   "cell_type": "code",
   "execution_count": 2,
   "metadata": {},
   "outputs": [
    {
     "name": "stdout",
     "output_type": "stream",
     "text": [
      "finish loading from csv \n",
      "Size of data: (773417, 58)\n",
      "Number of events: 773417\n",
      "Number of columns: 58\n",
      "\n",
      "List of features in dataset:\n",
      "year\n",
      "e_met_mT_per_M\n",
      "m_met_mT_per_M\n",
      "mPt_Per_e_m_Mass\n",
      "ePt_Per_e_m_Mass\n",
      "e_m_Mass\n",
      "emPt\n",
      "emEta\n",
      "mEta\n",
      "eEta\n",
      "j1Pt\n",
      "j2Pt\n",
      "j1Eta\n",
      "j2Eta\n",
      "DeltaEta_e_m\n",
      "DeltaPhi_e_m\n",
      "DeltaEta_e_j1\n",
      "DeltaPhi_e_j1\n",
      "DeltaEta_m_j1\n",
      "DeltaPhi_m_j1\n",
      "DeltaEta_e_j2\n",
      "DeltaPhi_e_j2\n",
      "DeltaEta_m_j2\n",
      "DeltaPhi_m_j2\n",
      "DeltaEta_em_j1\n",
      "DeltaPhi_em_j1\n",
      "DeltaEta_em_j2\n",
      "DeltaPhi_em_j2\n",
      "DeltaEta_j1_j2\n",
      "DeltaPhi_j1_j2\n",
      "Zeppenfeld\n",
      "Zeppenfeld_ver2\n",
      "Zeppenfeld_ver3\n",
      "j1_j2_mass\n",
      "DeltaPhi_em_j1j2\n",
      "DeltaEta_em_j1j2\n",
      "m_met_mT\n",
      "e_met_mT\n",
      "DeltaPhi_e_met\n",
      "DeltaPhi_m_met\n",
      "MetEt\n",
      "e_m_PZeta\n",
      "R_pT\n",
      "pT_cen\n",
      "pT_cen_ver2\n",
      "pT_cen_ver3\n",
      "cen\n",
      "DeltaR_e_m\n",
      "weight\n",
      "DeltaR_em_j1\n",
      "DeltaR_em_j2\n",
      "DeltaR_j1_j2\n",
      "DeltaR_em_j1j2\n",
      "DeltaR_e_j1\n",
      "DeltaR_m_j1\n",
      "DeltaR_e_j2\n",
      "DeltaR_m_j2\n",
      "label\n"
     ]
    }
   ],
   "source": [
    "data = pd.read_csv('output2_gg.csv', delimiter=';')\n",
    "print ('finish loading from csv ')\n",
    "print('Size of data: {}'.format(data.shape))\n",
    "print('Number of events: {}'.format(data.shape[0]))\n",
    "print('Number of columns: {}'.format(data.shape[1]))\n",
    "print ('\\nList of features in dataset:')\n",
    "for col in data.columns:\n",
    "   print(col)"
   ]
  },
  {
   "cell_type": "code",
   "execution_count": 81,
   "metadata": {},
   "outputs": [],
   "source": [
    "data['label'] = data.label.astype('category')\n",
    "feature_names = ['e_met_mT_per_M', 'm_met_mT_per_M', 'mPt_Per_e_m_Mass', 'ePt_Per_e_m_Mass', 'emEta', 'DeltaR_e_m', 'MetEt', 'j1Pt', 'DeltaR_em_j1', 'j1Eta', 'j2Pt', 'DeltaR_em_j2', 'j2Eta', 'DeltaEta_j1_j2', 'R_pT']\n",
    "\n",
    "# split data into X and y\n",
    "X = data\n",
    "Y = data['label']\n",
    "\n",
    "# split data into train and test sets\n",
    "seed = 123\n",
    "test_size = 0.2\n",
    "X_train, X_test, y_train, y_test = train_test_split(X, Y, test_size=test_size, random_state=seed)"
   ]
  },
  {
   "cell_type": "code",
   "execution_count": 114,
   "metadata": {},
   "outputs": [
    {
     "name": "stdout",
     "output_type": "stream",
     "text": [
      "Fitting 5 folds for each of 5 candidates, totalling 25 fits\n"
     ]
    },
    {
     "name": "stderr",
     "output_type": "stream",
     "text": [
      "[Parallel(n_jobs=23)]: Using backend LokyBackend with 23 concurrent workers.\n",
      "[Parallel(n_jobs=23)]: Done   7 out of  25 | elapsed:  5.0min remaining: 12.9min\n",
      "[Parallel(n_jobs=23)]: Done  16 out of  25 | elapsed:  7.2min remaining:  4.1min\n",
      "[Parallel(n_jobs=23)]: Done  25 out of  25 | elapsed:  9.1min remaining:    0.0s\n",
      "[Parallel(n_jobs=23)]: Done  25 out of  25 | elapsed:  9.1min finished\n"
     ]
    },
    {
     "name": "stdout",
     "output_type": "stream",
     "text": [
      "Time spent on hyperparameter optimization 0:09:49.325225\n"
     ]
    }
   ],
   "source": [
    "params={\n",
    " \"learning_rate\"    : [0.05, 0.10, 0.15, 0.20, 0.25, 0.30 ] ,\n",
    " \"max_depth\"        : [ 3, 4, 5, 6, 8, 10, 12, 15],\n",
    " \"min_child_weight\" : [ 1, 3, 5, 7 ],\n",
    " \"gamma\"            : [ 0.0, 0.1, 0.2 , 0.3, 0.4 ],\n",
    " \"colsample_bytree\" : [ 0.3, 0.4, 0.5 , 0.7 ]\n",
    "    \n",
    "}\n",
    "## Hyperparameter optimization using RandomizedSearchCV\n",
    "from sklearn.model_selection import RandomizedSearchCV, GridSearchCV\n",
    "import multiprocessing\n",
    "nthreads = multiprocessing.cpu_count()-1\n",
    "model = xgb.XGBClassifier(n_jobs=nthreads)\n",
    "random_search=RandomizedSearchCV(model,param_distributions=params,n_iter=5,scoring='roc_auc',n_jobs=nthreads,cv=5,verbose=3)\n",
    "from datetime import timedelta\n",
    "tic = time.time()\n",
    "random_search.fit(X_train[feature_names], y_train, sample_weight=X_train['weight'], eval_metric='auc')\n",
    "toc = time.time()\n",
    "print \"Time spent on hyperparameter optimization %s\"%str(timedelta(seconds=toc - tic))"
   ]
  },
  {
   "cell_type": "code",
   "execution_count": 120,
   "metadata": {},
   "outputs": [
    {
     "data": {
      "text/plain": [
       "{'mean_fit_time': array([152.82703085, 391.73801155, 452.75329766, 153.90536542,\n",
       "        186.30075154]),\n",
       " 'mean_score_time': array([1.17819571, 0.70627384, 0.35088811, 1.04451804, 0.76803594]),\n",
       " 'mean_test_score': array([0.93024376, 0.92903097, 0.92824979, 0.92575711, 0.92803799]),\n",
       " 'mean_train_score': array([0.93230556, 0.9320088 , 0.93008831, 0.92629073, 0.92900171]),\n",
       " 'param_colsample_bytree': masked_array(data=[0.5, 0.3, 0.7, 0.5, 0.5],\n",
       "              mask=[False, False, False, False, False],\n",
       "        fill_value='?',\n",
       "             dtype=object),\n",
       " 'param_gamma': masked_array(data=[0.0, 0.4, 0.1, 0.3, 0.1],\n",
       "              mask=[False, False, False, False, False],\n",
       "        fill_value='?',\n",
       "             dtype=object),\n",
       " 'param_learning_rate': masked_array(data=[0.25, 0.3, 0.05, 0.15, 0.15],\n",
       "              mask=[False, False, False, False, False],\n",
       "        fill_value='?',\n",
       "             dtype=object),\n",
       " 'param_max_depth': masked_array(data=[5, 10, 12, 3, 4],\n",
       "              mask=[False, False, False, False, False],\n",
       "        fill_value='?',\n",
       "             dtype=object),\n",
       " 'param_min_child_weight': masked_array(data=[1, 3, 5, 7, 3],\n",
       "              mask=[False, False, False, False, False],\n",
       "        fill_value='?',\n",
       "             dtype=object),\n",
       " 'params': [{'colsample_bytree': 0.5,\n",
       "   'gamma': 0.0,\n",
       "   'learning_rate': 0.25,\n",
       "   'max_depth': 5,\n",
       "   'min_child_weight': 1},\n",
       "  {'colsample_bytree': 0.3,\n",
       "   'gamma': 0.4,\n",
       "   'learning_rate': 0.3,\n",
       "   'max_depth': 10,\n",
       "   'min_child_weight': 3},\n",
       "  {'colsample_bytree': 0.7,\n",
       "   'gamma': 0.1,\n",
       "   'learning_rate': 0.05,\n",
       "   'max_depth': 12,\n",
       "   'min_child_weight': 5},\n",
       "  {'colsample_bytree': 0.5,\n",
       "   'gamma': 0.3,\n",
       "   'learning_rate': 0.15,\n",
       "   'max_depth': 3,\n",
       "   'min_child_weight': 7},\n",
       "  {'colsample_bytree': 0.5,\n",
       "   'gamma': 0.1,\n",
       "   'learning_rate': 0.15,\n",
       "   'max_depth': 4,\n",
       "   'min_child_weight': 3}],\n",
       " 'rank_test_score': array([1, 2, 3, 5, 4], dtype=int32),\n",
       " 'split0_test_score': array([0.9298119 , 0.92903195, 0.92802302, 0.92533773, 0.92786735]),\n",
       " 'split0_train_score': array([0.9320861 , 0.93196138, 0.93014091, 0.92593008, 0.92886351]),\n",
       " 'split1_test_score': array([0.93061753, 0.92929007, 0.928429  , 0.92588913, 0.92826285]),\n",
       " 'split1_train_score': array([0.93220053, 0.93159084, 0.929696  , 0.92607836, 0.92876958]),\n",
       " 'split2_test_score': array([0.93064761, 0.92915243, 0.92830738, 0.92554094, 0.92824215]),\n",
       " 'split2_train_score': array([0.93289343, 0.93210356, 0.93025764, 0.92614285, 0.92933111]),\n",
       " 'split3_test_score': array([0.92966665, 0.92827237, 0.92756051, 0.92519706, 0.92688879]),\n",
       " 'split3_train_score': array([0.93225212, 0.93220504, 0.93029041, 0.92666172, 0.92878578]),\n",
       " 'split4_test_score': array([0.93047512, 0.92940801, 0.92892906, 0.92682072, 0.9289288 ]),\n",
       " 'split4_train_score': array([0.93209565, 0.93218319, 0.93005659, 0.92664065, 0.92925857]),\n",
       " 'std_fit_time': array([16.02492458, 21.68866402, 17.76786669, 14.31001598, 16.55003293]),\n",
       " 'std_score_time': array([0.33915973, 0.19870171, 0.08631934, 0.43680567, 0.06417639]),\n",
       " 'std_test_score': array([0.00041854, 0.00039988, 0.00045241, 0.00058051, 0.00066866]),\n",
       " 'std_train_score': array([0.00030057, 0.00022576, 0.00021316, 0.00030236, 0.00024253])}"
      ]
     },
     "execution_count": 120,
     "metadata": {},
     "output_type": "execute_result"
    }
   ],
   "source": [
    "random_search.cv_results_"
   ]
  },
  {
   "cell_type": "code",
   "execution_count": 119,
   "metadata": {},
   "outputs": [
    {
     "data": {
      "text/plain": [
       "XGBClassifier(base_score=0.5, booster='gbtree', colsample_bylevel=1,\n",
       "       colsample_bytree=0.5, gamma=0.0, learning_rate=0.25,\n",
       "       max_delta_step=0, max_depth=5, min_child_weight=1, missing=None,\n",
       "       n_estimators=100, n_jobs=23, nthread=None,\n",
       "       objective='binary:logistic', random_state=0, reg_alpha=0,\n",
       "       reg_lambda=1, scale_pos_weight=1, seed=None, silent=True,\n",
       "       subsample=1)"
      ]
     },
     "execution_count": 119,
     "metadata": {},
     "output_type": "execute_result"
    }
   ],
   "source": [
    "random_search.best_estimator_"
   ]
  },
  {
   "cell_type": "code",
   "execution_count": 131,
   "metadata": {},
   "outputs": [
    {
     "name": "stdout",
     "output_type": "stream",
     "text": [
      "Time spent on training 0:00:40.133094\n"
     ]
    }
   ],
   "source": [
    "# fit model no training data\n",
    "tic = time.time()\n",
    "model = xgb.XGBClassifier(base_score=0.5, booster='gbtree', colsample_bylevel=1,\n",
    "       colsample_bytree=0.5, gamma=0.1, learning_rate=0.15,\n",
    "       max_delta_step=0, max_depth=4, min_child_weight=3, missing=None,\n",
    "       n_estimators=100, n_jobs=23, nthread=None,\n",
    "       objective='binary:logistic', random_state=0, reg_alpha=0,\n",
    "       reg_lambda=1, scale_pos_weight=1, seed=None, silent=True,\n",
    "       subsample=1)\n",
    "model.fit(X_train[feature_names], y_train, sample_weight=X_train['weight'], eval_set = [(X_train[feature_names], y_train), (X_test[feature_names], y_test)], eval_metric='auc', verbose=False)\n",
    "toc = time.time()\n",
    "print \"Time spent on training %s\"%str(timedelta(seconds=toc - tic))"
   ]
  },
  {
   "cell_type": "code",
   "execution_count": 162,
   "metadata": {},
   "outputs": [
    {
     "name": "stdout",
     "output_type": "stream",
     "text": [
      "AUC of training set: 0.929337\n",
      "AUC of testing set: 0.927819\n"
     ]
    },
    {
     "data": {
      "image/png": "[encoded data removed]",
      "text/plain": [
       "<Figure size 432x288 with 1 Axes>"
      ]
     },
     "metadata": {
      "needs_background": "light"
     },
     "output_type": "display_data"
    }
   ],
   "source": [
    "results = model.evals_result()\n",
    "print \"AUC of training set: %f\"%results['validation_0']['auc'][-1]\n",
    "print \"AUC of testing set: %f\"%results['validation_1']['auc'][-1]\n",
    "epochs = len(results['validation_0']['auc'])\n",
    "x_axis = range(0, epochs)\n",
    "# plot log loss\n",
    "fig, ax = plt.subplots()\n",
    "ax.plot(x_axis, results['validation_0']['auc'], label='Train')\n",
    "ax.plot(x_axis, results['validation_1']['auc'], label='Test')\n",
    "ax.legend()\n",
    "plt.ylabel('auc')\n",
    "plt.xlabel('epochs')\n",
    "plt.show()\n",
    "# train = xgb.DMatrix(data=X_train[feature_names],label=X_train.label.cat.codes,\n",
    "#                    feature_names=feature_names, weight=X_train['weight'])\n",
    "# test = xgb.DMatrix(data=X_test[feature_names],label=X_test.label.cat.codes,\n",
    "#                    feature_names=feature_names, weight=X_test['weight'])\n",
    "# booster = model.get_booster()\n",
    "# print(booster.eval(test))\n",
    "# print(booster.eval(train))\n",
    "predictions_sig_test = model.predict_proba(X_test.loc[X_test['label'] == 1][feature_names])\n",
    "predictions_bkg_test = model.predict_proba(X_test.loc[X_test['label'] == 0][feature_names])\n",
    "\n",
    "predictions_sig_train = model.predict_proba(X_train.loc[X_train['label'] == 1][feature_names])\n",
    "predictions_bkg_train = model.predict_proba(X_train.loc[X_train['label'] == 0][feature_names])\n",
    "\n",
    "# sklearn auc does not work on negative weights\n",
    "# y_pred = model.predict_proba(X_test[feature_names])\n",
    "# print roc_auc_score(y_test, y_pred[:,1], sample_weight=X_test['weight'], pos_label = 1)"
   ]
  },
  {
   "cell_type": "code",
   "execution_count": 163,
   "metadata": {},
   "outputs": [
    {
     "data": {
      "image/png": "[encoded data removed]",
      "text/plain": [
       "<Figure size 432x288 with 1 Axes>"
      ]
     },
     "metadata": {
      "needs_background": "light"
     },
     "output_type": "display_data"
    }
   ],
   "source": [
    "# plot signal and background separately\n",
    "plt.figure();\n",
    "plt.hist(predictions_sig_test[:,1],density=True,\n",
    "         histtype='step',color='midnightblue',label='signal');\n",
    "plt.hist(predictions_bkg_test[:,1],density=True,bins=np.linspace(0,1,50),\n",
    "         histtype='step',color='firebrick',label='background');\n",
    "# make the plot readable\n",
    "plt.xlabel('Prediction from BDT',fontsize=12);\n",
    "plt.ylabel('Events',fontsize=12);\n",
    "plt.legend(frameon=False);"
   ]
  },
  {
   "cell_type": "code",
   "execution_count": 171,
   "metadata": {},
   "outputs": [
    {
     "name": "stderr",
     "output_type": "stream",
     "text": [
      "/cvmfs/cms.cern.ch/slc7_amd64_gcc700/external/py2-ipykernel/4.10.0/lib/python2.7/site-packages/ipykernel_launcher.py:16: RuntimeWarning: invalid value encountered in divide\n",
      "  app.launch_new_instance()\n",
      "/cvmfs/cms.cern.ch/slc7_amd64_gcc700/external/py2-ipykernel/4.10.0/lib/python2.7/site-packages/ipykernel_launcher.py:17: RuntimeWarning: invalid value encountered in divide\n"
     ]
    },
    {
     "data": {
      "image/png": "[encoded data removed]",
      "text/plain": [
       "<Figure size 432x288 with 1 Axes>"
      ]
     },
     "metadata": {
      "needs_background": "light"
     },
     "output_type": "display_data"
    }
   ],
   "source": [
    "cuts = np.linspace(0,1,500);\n",
    "#testing set\n",
    "nsignal_test = np.zeros(len(cuts));\n",
    "nbackground_test = np.zeros(len(cuts));\n",
    "for i,cut in enumerate(cuts):\n",
    "    nsignal_test[i] = len(np.where(predictions_sig_test[:,1] > cut)[0]);\n",
    "    nbackground_test[i] = len(np.where(predictions_bkg_test[:,1] > cut)[0]);\n",
    "#training set\n",
    "nsignal_train = np.zeros(len(cuts));\n",
    "nbackground_train = np.zeros(len(cuts));\n",
    "for i,cut in enumerate(cuts):\n",
    "    nsignal_train[i] = len(np.where(predictions_sig_train[:,1] > cut)[0]);\n",
    "    nbackground_train[i] = len(np.where(predictions_bkg_train[:,1] > cut)[0]);\n",
    "# plot efficiency vs. purity (ROC curve)\n",
    "plt.figure();\n",
    "plt.plot(nsignal_test/len(X_test[X_test.label == 1]),nsignal_test/(nsignal_test + nbackground_test),'-',color='midnightblue', label='Test');\n",
    "plt.plot(nsignal_train/len(X_train[X_train.label == 1]),nsignal_train/(nsignal_train + nbackground_train),'-',color='firebrick', label='Train');\n",
    "# make the plot readable\n",
    "plt.xlabel('Efficiency',fontsize=12);\n",
    "plt.ylabel('Purity',fontsize=12);\n",
    "plt.legend(frameon=False);"
   ]
  },
  {
   "cell_type": "code",
   "execution_count": null,
   "metadata": {},
   "outputs": [],
   "source": []
  }
 ],
 "metadata": {
  "kernelspec": {
   "display_name": "Python 2",
   "language": "python",
   "name": "python2"
  },
  "language_info": {
   "codemirror_mode": {
    "name": "ipython",
    "version": 2
   },
   "file_extension": ".py",
   "mimetype": "text/x-python",
   "name": "python",
   "nbconvert_exporter": "python",
   "pygments_lexer": "ipython2",
   "version": "2.7.14+"
  }
 },
 "nbformat": 4,
 "nbformat_minor": 2
}
